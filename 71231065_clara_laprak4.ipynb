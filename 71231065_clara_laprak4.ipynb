{
 "cells": [
  {
   "cell_type": "code",
   "execution_count": 1,
   "id": "9911ed00",
   "metadata": {},
   "outputs": [
    {
     "name": "stdout",
     "output_type": "stream",
     "text": [
      "masukan angak pertama : 1\n",
      "masukan angka kedua : 2\n",
      "masukan angka ketiga : 3\n",
      "True\n"
     ]
    }
   ],
   "source": [
    "def cek_angka(a,b,c):\n",
    "    if a + b == c or a + c == b or b + c == a:\n",
    "         return True\n",
    "    else : \n",
    "         return False\n",
    "a = int(input(\"masukan angak pertama : \"))\n",
    "b = int(input(\"masukan angka kedua : \"))\n",
    "c =int(input(\"masukan angka ketiga : \"))\n",
    "print(cek_angka(a,b,c))"
   ]
  },
  {
   "cell_type": "code",
   "execution_count": 2,
   "id": "75632818",
   "metadata": {},
   "outputs": [
    {
     "name": "stdout",
     "output_type": "stream",
     "text": [
      "Masukkan angka pertama: 12\n",
      "Masukkan angka kedua: 12\n",
      "Masukkan angka ketiga: 13\n",
      "True\n"
     ]
    }
   ],
   "source": [
    "def cek_digit_belakang(a, b, c):\n",
    "    angka1 = a % 10\n",
    "    angka2 = b % 10\n",
    "    angka3 = c % 10\n",
    "    if angka1 == angka2 or angka1 == angka3 or angka2 == angka3:\n",
    "        return True\n",
    "    else:\n",
    "        return False\n",
    "a = int(input(\"Masukkan angka pertama: \"))\n",
    "b = int(input(\"Masukkan angka kedua: \"))\n",
    "c = int(input(\"Masukkan angka ketiga: \"))\n",
    "print(cek_digit_belakang(a, b, c))"
   ]
  },
  {
   "cell_type": "code",
   "execution_count": 3,
   "id": "b631afc5",
   "metadata": {},
   "outputs": [
    {
     "name": "stdout",
     "output_type": "stream",
     "text": [
      "Masukkan suhu dalam Celcius: 100\n",
      "Input C = 100.0 Output F = 212.0\n",
      "Input C = 100.0 Output R = 80.0\n"
     ]
    }
   ],
   "source": [
    "celcius_ke_fahrenheit = lambda c: (9/5) * c + 32\n",
    "celcius_to_reamur = lambda c: 0.8 * c\n",
    "penginputan = float(input(\"Masukkan suhu dalam Celcius: \"))\n",
    "hasil_farenheit = celcius_ke_fahrenheit(penginputan)\n",
    "hasil_reamur = celcius_to_reamur(penginputan)\n",
    "print(f\"Input C = {penginputan} Output F = {hasil_farenheit}\")\n",
    "print(f\"Input C = {penginputan} Output R = {hasil_reamur}\")\n"
   ]
  },
  {
   "cell_type": "code",
   "execution_count": null,
   "id": "8abc4783",
   "metadata": {},
   "outputs": [],
   "source": []
  }
 ],
 "metadata": {
  "kernelspec": {
   "display_name": "Python 3 (ipykernel)",
   "language": "python",
   "name": "python3"
  },
  "language_info": {
   "codemirror_mode": {
    "name": "ipython",
    "version": 3
   },
   "file_extension": ".py",
   "mimetype": "text/x-python",
   "name": "python",
   "nbconvert_exporter": "python",
   "pygments_lexer": "ipython3",
   "version": "3.11.5"
  }
 },
 "nbformat": 4,
 "nbformat_minor": 5
}
